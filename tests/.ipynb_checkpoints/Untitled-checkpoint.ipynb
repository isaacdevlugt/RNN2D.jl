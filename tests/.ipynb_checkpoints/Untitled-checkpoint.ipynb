{
 "cells": [
  {
   "cell_type": "code",
   "execution_count": 4,
   "metadata": {},
   "outputs": [],
   "source": [
    "using RNN2D\n",
    "\n",
    "using Flux"
   ]
  },
  {
   "cell_type": "code",
   "execution_count": 5,
   "metadata": {},
   "outputs": [
    {
     "data": {
      "text/plain": [
       "0:1"
      ]
     },
     "execution_count": 5,
     "metadata": {},
     "output_type": "execute_result"
    }
   ],
   "source": [
    "num_samples = 5\n",
    "labels = 0:1"
   ]
  },
  {
   "cell_type": "code",
   "execution_count": 6,
   "metadata": {},
   "outputs": [
    {
     "ename": "LoadError",
     "evalue": "MethodError: no method matching null_vector(::Int64, ::Int64)\n\u001b[0mClosest candidates are:\n\u001b[0m  null_vector(::Int64, \u001b[91m::UnitRange{Int64}\u001b[39m) at /Users/isaacdevlugt/Documents/RydbergSquareReconstruction/RNN2D/src/utils.jl:120",
     "output_type": "error",
     "traceback": [
      "MethodError: no method matching null_vector(::Int64, ::Int64)\n\u001b[0mClosest candidates are:\n\u001b[0m  null_vector(::Int64, \u001b[91m::UnitRange{Int64}\u001b[39m) at /Users/isaacdevlugt/Documents/RydbergSquareReconstruction/RNN2D/src/utils.jl:120",
      "",
      "Stacktrace:",
      " [1] top-level scope",
      "   @ In[6]:1",
      " [2] eval",
      "   @ ./boot.jl:360 [inlined]",
      " [3] include_string(mapexpr::typeof(REPL.softscope), mod::Module, code::String, filename::String)",
      "   @ Base ./loading.jl:1094"
     ]
    }
   ],
   "source": [
    "v0 = null_vector(num_samples, labels)"
   ]
  }
 ],
 "metadata": {
  "kernelspec": {
   "display_name": "Julia 1.6.1",
   "language": "julia",
   "name": "julia-1.6"
  },
  "language_info": {
   "file_extension": ".jl",
   "mimetype": "application/julia",
   "name": "julia",
   "version": "1.6.1"
  }
 },
 "nbformat": 4,
 "nbformat_minor": 4
}
