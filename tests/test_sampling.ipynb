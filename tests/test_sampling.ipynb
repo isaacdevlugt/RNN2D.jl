{
 "cells": [
  {
   "cell_type": "code",
   "execution_count": 1,
   "metadata": {},
   "outputs": [],
   "source": [
    "import numpy as np\n",
    "import matplotlib.pyplot as plt"
   ]
  },
  {
   "cell_type": "code",
   "execution_count": 2,
   "metadata": {},
   "outputs": [],
   "source": [
    "def generate_hilbert_space(size):\n",
    "    dim = np.arange(2 ** size)\n",
    "    space = (((dim[:, None] & (1 << np.arange(size)))) > 0)[:, ::-1]\n",
    "    space = space.astype(int)\n",
    "    return space\n",
    "\n",
    "def get_samples_from_psi_indices(indices, N):\n",
    "    return (((indices[:, None] & (1 << np.arange(N)))) > 0)[:, ::-1].astype(int)\n",
    "\n",
    "def gen_inds_from_samples(samples):\n",
    "    inds = np.zeros(len(samples))\n",
    "    for i in range(len(samples)):\n",
    "        inds[i] = int(\"\".join(str(i) for i in samples[i]), base=2)\n",
    "    return inds.astype(int)\n",
    "\n",
    "def gen_samples(num_samples, N, psi):\n",
    "    probs = psi * psi\n",
    "    probs = probs / sum(probs) # numpy needs the prob vector to sum to EXACTLY 1...\n",
    "    indices = np.random.choice(len(probs), size=num_samples, p=probs)\n",
    "    return indices, get_samples_from_psi_indices(indices, N)\n",
    "\n",
    "def gen_data(psi_path, num_samples):\n",
    "    N = 9\n",
    "    size = 2 ** N\n",
    "    vis = generate_hilbert_space(N)\n",
    "\n",
    "    psi = np.loadtxt(psi_path) # real part\n",
    "    _, samples = gen_samples(num_samples, N, psi)\n",
    "\n",
    "    np.savetxt(\"2Drnn_psi_exact_samples.dat\", samples, fmt='%.0f')\n",
    "    \n",
    "gen_data(\"2Drnn_psi.dat\", 100000)"
   ]
  },
  {
   "cell_type": "code",
   "execution_count": 3,
   "metadata": {},
   "outputs": [
    {
     "data": {
      "image/png": "[encoded data removed]",
      "text/plain": [
       "<Figure size 432x288 with 1 Axes>"
      ]
     },
     "metadata": {
      "needs_background": "light"
     },
     "output_type": "display_data"
    }
   ],
   "source": [
    "ED_psi = np.loadtxt(\"true_psi_L=3_Rb=1.2_delta=1.12.dat\")[:, 0]\n",
    "\n",
    "num_samples = 10000\n",
    "N=9\n",
    "exact_RNN_samples = np.loadtxt(\"2Drnn_psi_exact_samples.dat\", dtype=int)\n",
    "algo_RNN_samples = np.loadtxt(\"2Drnn_samples.dat\", dtype=int)\n",
    "\n",
    "probs = ED_psi * ED_psi\n",
    "probs = probs[probs > 1e-13]\n",
    "\n",
    "ED_inds, ED_samples = gen_samples(num_samples, N, ED_psi)\n",
    "exact_RNN_inds = gen_inds_from_samples(exact_RNN_samples)\n",
    "algo_RNN_inds = gen_inds_from_samples(algo_RNN_samples)\n",
    "\n",
    "ED_uniques, ED_counts = np.unique(ED_inds, return_counts=True)\n",
    "exact_RNN_uniques, exact_RNN_counts = np.unique(exact_RNN_inds, return_counts=True)\n",
    "algo_RNN_uniques, algo_RNN_counts = np.unique(algo_RNN_inds, return_counts=True)\n",
    "\n",
    "\n",
    "ED_counts = ED_counts / len(ED_inds)\n",
    "exact_RNN_counts = exact_RNN_counts / len(exact_RNN_inds)\n",
    "algo_RNN_counts = algo_RNN_counts / len(algo_RNN_inds)\n",
    "\n",
    "plt.figure()\n",
    "plt.bar(ED_uniques+0.25, ED_counts, color='blue',\n",
    "        label=\"ED samples\", align='center', width=0.25)\n",
    "#plt.bar(ED_uniques+0.2, probs, color='black',\n",
    "#        label=\"True prob (ED)\", align='center', width=0.2)\n",
    "plt.bar(exact_RNN_uniques, exact_RNN_counts, color='green',\n",
    "        label=\"Exact RNN samples\", align='center', width=0.25)\n",
    "plt.bar(algo_RNN_uniques-0.25, algo_RNN_counts, color='red',\n",
    "        label=\"Algo RNN samples\", align='center', width=0.25)\n",
    "\n",
    "\n",
    "plt.xlabel(\"Basis state index\")\n",
    "plt.ylabel(\"Fractional frequency\")\n",
    "plt.legend()\n",
    "#plt.ylim(0, 0.2)\n",
    "plt.xlim(320, 327)\n",
    "plt.show()"
   ]
  }
 ],
 "metadata": {
  "kernelspec": {
   "display_name": "Python 3",
   "language": "python",
   "name": "python3"
  },
  "language_info": {
   "codemirror_mode": {
    "name": "ipython",
    "version": 3
   },
   "file_extension": ".py",
   "mimetype": "text/x-python",
   "name": "python",
   "nbconvert_exporter": "python",
   "pygments_lexer": "ipython3",
   "version": "3.8.5"
  }
 },
 "nbformat": 4,
 "nbformat_minor": 4
}
